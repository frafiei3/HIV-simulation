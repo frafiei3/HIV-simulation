{
 "cells": [
  {
   "cell_type": "markdown",
   "metadata": {},
   "source": [
    "# Part 2: HIV Simulations Using Mean-Field Model\n",
    "\n",
    "## Introduction\n",
    "\n",
    "Modeling in HIV has proven to be helpful in many ways. Specifically the authors of [1] note that because of insights gained from modeling they conclude that more emphasis needs to be put on finding a vaccine instead of treatment. This conduction was made because models show that viral loads persist even in long term simulations.\n",
    "\n",
    "Modelling HIV dynamics are useful to compare the efficency levels of different treatments. Paper [2] explores the HIV models of patients that are treated with Highly Active Antiretroviral Therapy (HAART). According to paper, patients mostly achieve undetectable viral loads when they are treated with HAART for long periods of time.\n",
    "\n",
    "Both of the papers referenced, review developments in HIV modeling. They display the quantitative discoveries about HIV, the rate of generation of HIV variants, treatments and response to drug therapy. In this tutorial we are simulating the HIV models from papers [1] and [2] by using the Mean-field Model to observe characteristics of HIV infection and to provide insight into the treatments.\n",
    "\n",
    "## Background\n",
    "\n",
    "In implementing the discrete and continuous simulations of three HIV models including the models both before and after treatment, the following papers are used:\n",
    "\n",
    "[1]Perelson, Alan S., and Ruy M. Ribeiro. \"Modeling the within-host dynamics of HIV infection.\" BMC biology 11.1 (2013): 96. https://link.springer.com/content/pdf/10.1186/1741-7007-11-96.pdf\n",
    "\n",
    "[2]Di Mascio, Michele, et al. \"Modeling the long-term control of viremia in HIV-1 infected patients treated with antiretroviral therapy.\" Mathematical biosciences 188.1-2 (2004): 47-62.\n",
    "https://www.sciencedirect.com/science/article/pii/S0025556403001305"
   ]
  },
  {
   "cell_type": "code",
   "execution_count": 25,
   "metadata": {},
   "outputs": [],
   "source": [
    "import numpy as np\n",
    "import matplotlib.pyplot as plt"
   ]
  },
  {
   "cell_type": "markdown",
   "metadata": {},
   "source": [
    "## First HIV model -- Modeling virus growth and infected cells.\n",
    "\n",
    "Following the notation from we can begin to implement our first model using the notation and equations from [1]\n",
    "\n",
    "In first HIV model initially each cell has two types of possible states which are \"T\" and \"I\". \"T\" represents the uninfected target cells while \"I\" represents the infected cells.\"T\" cells are mostly CD4+ T cells which are susceptible for infection. \"V\" represents the free virus. In a mean-field model, you would first define a time-dependent variable for each cell states which you interpret as the fraction of the population in that state and a dependent variable for the virus. That is, let   \n",
    "\n",
    "- $T_t$ be the fraction of the cells that is susceptible at (discrete) time $t$;\n",
    "- $I_t$ be the fraction that is infected at $t$; and\n",
    "- $V_t$ be the fraction of virus at $t$,\n",
    "\n",
    "where $T_t + I_t = 1$ since infected cells $I$ and uninfected target cells $T$ are complementary we always only need to compute one in order to compute the other. We will implicitly assume that the number of individuals is large enough that we can treat these fractions as being continuous.\n",
    "\n",
    "\n",
    "\n",
    "- $\\lambda$ is a parameter that represents the constant rate per cell that T cells are produced \n",
    "- $d_T$ is a parameter that represents the die rate of T cells per cell\n",
    "- $\\beta V T$ represents the rate that T cells get infected by free virus\n",
    "- $\\delta$ is the rate that I cells are lost\n",
    "- $p$ is the rate per cell that V (free viruses) are produced by I cells\n",
    "- $c$ is the rate per virus that V are cleared from circulation \n",
    "\n",
    "Then, a corresponding discrete-time dynamical system might be\n",
    "\n",
    "$$\n",
    "\\begin{eqnarray}\n",
    "  T_{t+1} & \\equiv & T_t + \\lambda - d_{T} T_t - \\beta V_t T_t \\\\\n",
    "  I_{t+1} & \\equiv & I_t + \\beta V_t T_t \\ - \\delta I_t \\\\\n",
    "  V_{t+1} & \\equiv & V_t + p I_t - c V_t\n",
    "\\end{eqnarray}\n",
    "$$\n",
    "\n",
    "The first step will be to define a discrete logical mapping F_hiv_1 by using the differential equations from [1]"
   ]
  },
  {
   "cell_type": "code",
   "execution_count": 48,
   "metadata": {
    "nbgrader": {
     "grade": false,
     "grade_id": "F_sir",
     "locked": false,
     "solution": true
    }
   },
   "outputs": [],
   "source": [
    "def F_hiv_1(x,t, lambda_l, d_t, beta, p, c):\n",
    "    \"\"\"\n",
    "    Description:Logical map to find discrete values for time t+1 by using time t values for T cells, \n",
    "                Viral load and infected cells. I variable is implicitly calculated by using T values \n",
    "                since they are complementary to each other.\n",
    "    Input: Numpy array x with T and V variables and parameters of models. \n",
    "    Output:The future values of T, and V stored in the Numpy array called x_next. \n",
    "    \n",
    "    \"\"\"\n",
    "    # x = (T, V)\n",
    "    x_next = x.copy ()\n",
    "    \n",
    "    ### BEGIN SOLUTION\n",
    "    T, V = 0, 1\n",
    "    I    = 1 - x[T] #we can always easily recover I\n",
    "    x_next[T] = max(0, x[T] + (lambda_l - d_t*x[T]- beta*x[V]*x[T]))                                       \n",
    "    x_next[V] = max(0, x[V] + p*I - c*x[V])\n",
    "    ### END SOLUTION\n",
    "    \n",
    "    return x_next"
   ]
  },
  {
   "cell_type": "markdown",
   "metadata": {},
   "source": [
    "Now that we have a logical map we need to write a simulation function which steps the logical map forward in time.\n",
    "Below function returns the T and V values in discrete time steps for the selected HIV model."
   ]
  },
  {
   "cell_type": "code",
   "execution_count": 49,
   "metadata": {
    "nbgrader": {
     "grade": false,
     "grade_id": "sim",
     "locked": false,
     "solution": true
    }
   },
   "outputs": [],
   "source": [
    "def sim(fun, t_max, x0, **fun_args):\n",
    "    \n",
    "    \"\"\"\n",
    "    Description:Simulating a discrete model.\n",
    "    Input: fun representing the function for logical map,\n",
    "           t_max for number of iterations of time,\n",
    "           x0 as the initial values for state variables \n",
    "           **fun_args for set of parameters that the logical map takes\n",
    "    Output:2D Numpy array X representing simulation values. Rows are time and columns are state variables.\n",
    "    \n",
    "    \"\"\"\n",
    "    X = np.zeros ((len(x0), t_max+1))\n",
    "\n",
    "\n",
    "    X[:, 0] = np.array (x0) #initial conditions\n",
    "    for t in range (t_max):\n",
    "        X[:, t+1] = fun(X[:, t],t, **fun_args) \n",
    "\n",
    "    return X"
   ]
  },
  {
   "cell_type": "markdown",
   "metadata": {},
   "source": [
    "Now we will create a plotting function to visualize the results of our discrete simulation of the First HIV model described above."
   ]
  },
  {
   "cell_type": "code",
   "execution_count": 50,
   "metadata": {
    "nbgrader": {
     "grade": true,
     "grade_id": "sim_test",
     "locked": true,
     "points": 2,
     "solution": false
    }
   },
   "outputs": [],
   "source": [
    "def plot_sim_1 (X,alpha, t, d_t, beta,p, c):\n",
    "    \n",
    "    \"\"\"\n",
    "    Description:Plotting the discrete model.2D Plot of the simulation values including\n",
    "                T, V and I values on y axis versus time on x axis.\n",
    "    Input:X as 2D numpy array to plot simulation values that contains the following:\n",
    "              in X[0, :] Susceptible T-cells   T   \n",
    "              in X[1, :] Viral load            V     \n",
    "              in X[2, :] Infected cells        I   \n",
    "    Output:none\n",
    "    \n",
    "    \"\"\"\n",
    "    \n",
    "    t_max = X.shape[1] - 1\n",
    "    \n",
    "    T = np.arange (t_max+1)\n",
    "    use_points = len (T) <= 30\n",
    "    plt.plot (T, X[0, :], 'ys--' if use_points else 'y-')\n",
    "    plt.plot (T, X[1, :], 'r*--' if use_points else 'r--')\n",
    "    plt.plot (T, 1. - X[0, :], 'bo--' if use_points else 'b--')\n",
    "    plt.legend (['T', 'V', 'I'])\n",
    "    plt.xlabel('Time')\n",
    "    plt.ylabel('Virus and Cell Loads')\n",
    "    #plt.axis ([0, t_max+1, 0, 1])\n",
    "    #plt.title (\"alpha = {}, tau = {}, kappa = {}\".format (alpha, tau, kappa))\n",
    "    "
   ]
  },
  {
   "cell_type": "markdown",
   "metadata": {},
   "source": [
    "Now we can set up some constants for our discrete First HIV model provided above and run our simulation with these values and observe the plot including the change of state variables which are $T$ as T-cells which are susceptible cells for infection, $V$ as viral load and $I$ as infected cells . "
   ]
  },
  {
   "cell_type": "code",
   "execution_count": 51,
   "metadata": {},
   "outputs": [
    {
     "data": {
      "image/png": "[encoded data removed]",
      "text/plain": [
       "<Figure size 432x288 with 1 Axes>"
      ]
     },
     "metadata": {
      "needs_background": "light"
     },
     "output_type": "display_data"
    }
   ],
   "source": [
    "T_MAX = 30\n",
    "\n",
    "ALPHA = 1. / 3\n",
    "LAMBDA_L= 0.1\n",
    "D_T = 0.2\n",
    "BETA = 0.3\n",
    "P = 0.4\n",
    "C = 0.27\n",
    "\n",
    "# X[:, t] = [T_t, V_t]  \n",
    "x0 = np.array ([ALPHA, 0])\n",
    "\n",
    "#create simulation data\n",
    "X = sim (F_hiv_1,T_MAX, x0, lambda_l=LAMBDA_L, d_t=D_T, beta=BETA, p=P, c=C)\n",
    "\n",
    "#plot simulation data\n",
    "plot_sim_1 (X, ALPHA, LAMBDA_L, D_T,BETA, P, C)"
   ]
  },
  {
   "cell_type": "markdown",
   "metadata": {},
   "source": [
    "From the discrete simulation plot above, we observe that number of infected cells grow as the viral load grows over time. In accordance with this the number of susceptible cells which are T cells decreases over time. Before we continue our observations we will also implement a continous version of this simulation that is based on the ordinary differential equations solver from numpy."
   ]
  },
  {
   "cell_type": "markdown",
   "metadata": {},
   "source": [
    "## Implementation for continuous time\n",
    "\n",
    "Next, suppose we wish to treat time as a continuous, rather than discrete, variable. Doing so gives rise to a system of ordinary differential equations (ODEs):\n",
    "\n",
    "\n",
    "$$\n",
    "\\begin{eqnarray}\n",
    "  \\dfrac{d\\vec{y}}{dt}\n",
    "  = \\dfrac{d}{dt}\\left(\\begin{matrix}\n",
    "      T(t) \\\\\n",
    "      I(t) \\\\\n",
    "      V(t)\n",
    "    \\end{matrix}\\right)\n",
    "  & = & \\left(\\begin{matrix}\n",
    "     \\lambda - d_{T} T(t) - \\beta V(t) T(t) \\\\\n",
    "      \\beta V(t) T(t) \\ - \\delta I(t)\\\\\n",
    "      p I(t) - c V(t)\n",
    "    \\end{matrix}\\right)\n",
    "  \\equiv \\vec{F}(\\vec{y}),\n",
    "\\end{eqnarray}\n",
    "$$\n",
    "\n",
    "where $\\vec{y}(t)$ is the state vector."
   ]
  },
  {
   "cell_type": "markdown",
   "metadata": {},
   "source": [
    "\n",
    "- Use the initial population parameters $T(0) =\\alpha$, $I(0) = 1-\\alpha$, and $V(0) = 0$. These values are set in the `y0[:2]` array, below.\n",
    "- $\\alpha$ is the proportion of target cells that are alive.\n",
    "- Store the results for $T(t)$, $I(t)$, and $V(t)$ for time points (i.e., including $t=0$) in three NumPy arrays named `T_ode[:31]`, `V_ode[:31]`, and `I_ode[:31]`, respectively. The plotting code below assume these names."
   ]
  },
  {
   "cell_type": "markdown",
   "metadata": {},
   "source": [
    "Below code implements the ODE simulation for the First HIV model in continuous case."
   ]
  },
  {
   "cell_type": "code",
   "execution_count": 52,
   "metadata": {},
   "outputs": [],
   "source": [
    "# Initial populations, i.e., [T(0), V(0)]\n",
    "y0 = np.array ([ALPHA, 0])\n",
    "\n",
    "from scipy.integrate import odeint\n",
    "\n",
    "def F_hiv_ode (y, t,lambda_l, d_t,beta, p, c):\n",
    "    return F_hiv_1 (y,t,lambda_l, d_t,beta, p, c) - y\n",
    "\n",
    "# Time points at which to compute the solutions:\n",
    "time = np.arange (31).astype (float)\n",
    "\n",
    "Y = np.zeros ((2, len (time)))  \n",
    "Y[:, 0] = y0[:2]\n",
    "\n",
    "Y = odeint (F_hiv_ode,\n",
    "            Y[:, 0],\n",
    "            time,\n",
    "            args=( LAMBDA_L, D_T, BETA, P, C)).T\n",
    "\n",
    "T_ode = Y[0, :]\n",
    "V_ode = Y[1, :]\n",
    "I_ode = 1.0 - T_ode"
   ]
  },
  {
   "cell_type": "code",
   "execution_count": 53,
   "metadata": {},
   "outputs": [],
   "source": [
    "def plot_sim_ode_1 (T, V, I, time):\n",
    "    \"\"\"\n",
    "    Description: Plotting the continuous First HIV model state variables. \n",
    "    Input:1D numpy arrays for state variables T, V, and I for First HIV Model and 1D array \"time\" for time steps\n",
    "    Output: none\n",
    "    \n",
    "    \"\"\"\n",
    "    t_max = time[-1]\n",
    "    use_points = len (time) <= 35\n",
    "    plt.plot (time, T, 'ys--' if use_points else 'y-')\n",
    "    plt.plot (time, V, 'r*--' if use_points else 'r--')         \n",
    "    plt.plot (time, 1. - T, 'bo--' if use_points else 'b--')\n",
    "    plt.legend (['T', 'V', 'I'])\n",
    "    plt.xlabel('Time')\n",
    "    plt.ylabel('Virus and Cell Loads')\n",
    "    #plt.axis ([0, t_max+1, 0, 1])\n",
    "    #plt.title (\"lambda_l = {}, d_t = {},beta={}, p={}, c={}\".format(lambda_l, d_t,beta, p, c))"
   ]
  },
  {
   "cell_type": "code",
   "execution_count": 54,
   "metadata": {},
   "outputs": [
    {
     "data": {
      "image/png": "[encoded data removed]",
      "text/plain": [
       "<Figure size 864x432 with 2 Axes>"
      ]
     },
     "metadata": {
      "needs_background": "light"
     },
     "output_type": "display_data"
    }
   ],
   "source": [
    "# Figure to compare discrete-time and continuous-time models\n",
    "plt.figure (figsize=(12, 6))\n",
    "plt.subplot (1, 2, 1)\n",
    "plot_sim_1 (X, ALPHA, LAMBDA_L, D_T, BETA, P, C)\n",
    "plt.subplot (1, 2, 2)\n",
    "plot_sim_ode_1(T_ode, V_ode, I_ode, time)"
   ]
  },
  {
   "cell_type": "markdown",
   "metadata": {},
   "source": [
    "Plot for discrete time model can be seen on the left hand-side and the continuous time model can be seen on right. We can observe from our simulation that T and I are complementary since a target cell will become and infected cell.\n",
    "\n",
    "The other main observation is that once a steady state is reached, The virus will stay in the system forever. Our next model will look at what would happen if we start to give medicine to the patient in order to reduce the viral load V."
   ]
  },
  {
   "cell_type": "markdown",
   "metadata": {},
   "source": [
    "# Second HIV model -- Modeling treatment\n",
    "\n",
    "In paper[2], we can find a model with differential equations that lets use observe the effect of treatment on the viral load on a patient. This treatment helps in a way to cause the $I$ cells to produce immature virus particles which are non-infectious and it can prevent the succesful infection of a cell as well as decreasing the virus level.To model this we will introduce new parameters, states and equations as follows:\n",
    "\n",
    "- $V_{It}$ be the fraction of the Virus that is infectious (discrete) time $t$;\n",
    "- $V_{NIt}$ be the fraction of the Virus that is non-infectious at $t$; and\n",
    "\n",
    "\n",
    "\n",
    "where $V_{It} + V_{NIt}=1$ since infectious Virus $V_{It}$ and non-infectious Virus $V_{NIt}$ are complementary we always only need to compute one in order to compute the other. Here, we will also implicitly assume that the number of individuals is large enough that we can treat these fractions as being continuous.\n",
    "\n",
    "\n",
    "- $\\epsilon_{RT}$ is a parameter between 0 and 1 that represents the effectiviness of the inhibitor that prevents the establishment of productive infection of a cell. $\\epsilon_{RT}=1$ implies 100% effective inhibitor. \n",
    "- $\\epsilon_{PI}$ is a parameter that represents the effectiveness of protease inhibitor which prevents the maturation of HIV virions into infectious particles.\n",
    " \n",
    "Then, a corresponding discrete-time dynamical system might be\n",
    "\n",
    "$$\n",
    "\\begin{eqnarray}\n",
    "  T_{t+1} & \\equiv & T_t + \\lambda - d_{T} T_t - (1-\\epsilon_{RT}) \\beta V_{It} T_t \\\\\n",
    "  I_{t+1} & \\equiv & I_t + (1-\\epsilon_{RT}) \\beta V_{It} T_t \\ - \\delta I_t \\\\\n",
    "  V_{It+1} & \\equiv &  V_{It} + (1-\\epsilon_{PI}) p I_t - c V_{It}\\\\\n",
    "  V_{NIt+1} & \\equiv & V_{NIt} + \\epsilon_{PI} p I_t - c V_{NIt} \\\\\n",
    "\\end{eqnarray}\n",
    "$$\n",
    "\n"
   ]
  },
  {
   "cell_type": "code",
   "execution_count": 55,
   "metadata": {},
   "outputs": [],
   "source": [
    "def F_hiv_2 (x,t,lambda_l, d_t,beta, p, c, eps_RT, eps_PI):\n",
    "    \n",
    "    \"\"\"\n",
    "    \n",
    "    Description:Logical map for Second HIV Model to find discrete values in time t+1 by using time t \n",
    "                values for T cells, Viral load of infectious virus, viral load of non-infectious virus\n",
    "                and infected cells. I variable is implicitly calculated by using T values since they are \n",
    "                complementary to each other.\n",
    "    Input: x as 1D numpy array that will contain\n",
    "              in x[0] Susceptible T-cells         T  \n",
    "              in x[1] Infectious Viral load       V_i         \n",
    "    Output: 1D numpy array x_next that returns state variables T and V_i values at time t+1 \n",
    "    \n",
    "    \n",
    "    \"\"\"\n",
    "    \n",
    "    # x = (T, V_i)\n",
    "    x_next = x.copy ()\n",
    "\n",
    "    T, V_i = 0, 1\n",
    "    I = 1 - x[T] \n",
    "    x_next[T]   = max(0, x[T] + (lambda_l - d_t*x[T]-(1-eps_RT)*beta*x[V_i]*x[T]))                                                \n",
    "    x_next[V_i] = max(0, x[V_i] + (1-eps_PI)*p*I - c*x[V_i])\n",
    "\n",
    "    return x_next"
   ]
  },
  {
   "cell_type": "code",
   "execution_count": 56,
   "metadata": {},
   "outputs": [],
   "source": [
    "def plot_sim_2 (X):\n",
    "    \n",
    "    \"\"\"\n",
    "    Description:Plotting the discrete model.2D Plot of the simulation values including T, V and I values \n",
    "                on y axis versus time on x axis.\n",
    "    Input: X as 2D numpy array that will contain\n",
    "                  in X[0, :] Susceptible T-cells    T   \n",
    "                  in X[1, :] Infectious Viral load  V_i     \n",
    "                  in X[2, :] Infected cells         I                         \n",
    "    Output:none\n",
    "    \n",
    "    \"\"\"\n",
    "    t_max = X.shape[1] - 1\n",
    "    \n",
    "    T = np.arange (t_max+1)\n",
    "    use_points = len (T) <= 30\n",
    "    plt.plot (T, X[0, :], 'ys--' if use_points else 'y-')\n",
    "    plt.plot (T, X[1, :], 'r*--' if use_points else 'r--')\n",
    "    plt.plot (T, 1. - X[0, :], 'bo--' if use_points else 'b--')\n",
    "    plt.legend (['T', 'V_i', 'I'])\n",
    "    plt.xlabel('Time')\n",
    "    plt.ylabel('Virus and Cell Loads')\n",
    "    #plt.axis ([0, t_max+1, 0, 1])"
   ]
  },
  {
   "cell_type": "markdown",
   "metadata": {},
   "source": [
    "## Implementation for continuous time\n",
    "\n",
    "Next, suppose we wish to treat time as a continuous, rather than discrete, variable. Doing so gives rise to a system of ordinary differential equations (ODEs):\n",
    "  \n",
    "\n",
    "$$\n",
    "\\begin{eqnarray}\n",
    "  \\dfrac{d\\vec{y}}{dt}\n",
    "  = \\dfrac{d}{dt}\\left(\\begin{matrix}\n",
    "      T(t) \\\\\n",
    "      I(t) \\\\\n",
    "      V_I(t) \\\\\n",
    "      V_{NI}(t)\n",
    "    \\end{matrix}\\right)\n",
    "  & = & \\left(\\begin{matrix}\n",
    "      \\lambda - d_{T} T(t) - (1-\\epsilon_{RT}) \\beta V_{I}(t) T(t) \\\\\n",
    "      (1-\\epsilon_{RT}) \\beta V_{I}(t) T(t) \\ - \\delta I(t)  \\\\\n",
    "      (1-\\epsilon_{PI}) p I(t) - c V_{I}(t) \\\\\n",
    "      \\epsilon_{PI} p I(t) - c V_{NI}(t) \n",
    "    \\end{matrix}\\right)\n",
    "  \\equiv \\vec{F}(\\vec{y}),\n",
    "\\end{eqnarray}\n",
    "$$\n",
    "\n",
    "where $\\vec{y}(t)$ is the state vector."
   ]
  },
  {
   "cell_type": "markdown",
   "metadata": {},
   "source": [
    "- Use the initial population parameters $T(0) =\\alpha$ and $V_i(0)= 10$. These values are set in the `y0[:2]` array, below.\n",
    "- $\\alpha$ is the proportion of target cells that are alive.\n",
    "- Store the results for $T(t)$ and $V_i(t)$ for time points (i.e., including $t=0$) in two NumPy arrays named `T_ode[:31]`and `V_i_ode[:31]` respectively. The plotting code below assume these names."
   ]
  },
  {
   "cell_type": "markdown",
   "metadata": {},
   "source": [
    "Make plotting function for continous simulation of second HIV model where we introduce the treatment modeled in paper[2]:"
   ]
  },
  {
   "cell_type": "code",
   "execution_count": 57,
   "metadata": {},
   "outputs": [],
   "source": [
    "def plot_sim_2_ode (T, V_i, I, T_): \n",
    "    \n",
    "    \"\"\"\n",
    "    Description: Plotting the continuous Second HIV model state variables. \n",
    "    Input: T, V_i, and I as 1D numpy arrays for state variables in Second HIV Model and 1D array T_ for time steps\n",
    "    Output: none\n",
    "    \n",
    "    \"\"\"\n",
    "        \n",
    "    t_max = T_[-1]\n",
    "    use_points = len (T_) <= 35\n",
    "    plt.plot (T_, T, 'ys--' if use_points else 'y-')\n",
    "    plt.plot (T_, V_i, 'r*--' if use_points else 'r--')\n",
    "    plt.plot (T_, 1. - T, 'bo--' if use_points else 'b--')\n",
    "    plt.legend (['T', 'V_i', 'I'])\n",
    "    plt.xlabel('Time')\n",
    "    plt.ylabel('Virus and Cell Loads')\n",
    "    #plt.axis ([0, t_max+1, 0, 1])\n",
    "    #plt.title (\"lambda_l = {}, d_t = {},beta={}, p={}, c={}, eps_RT={}, eps_PI={}\".format(lambda_l, d_t,beta, p, c, eps_RT, eps_PI))\n",
    "       "
   ]
  },
  {
   "cell_type": "markdown",
   "metadata": {},
   "source": [
    "Prepare ODE function for continuous simulation of the Second HIV model:"
   ]
  },
  {
   "cell_type": "code",
   "execution_count": 58,
   "metadata": {},
   "outputs": [],
   "source": [
    "### BEGIN SOLUTION\n",
    "from scipy.integrate import odeint\n",
    "\n",
    "def F_hiv_2_ode (y, t, lambda_l, d_t,beta, p, c, eps_RT, eps_PI):\n",
    "    return F_hiv_2 (y, t,lambda_l, d_t,beta, p, c, eps_RT, eps_PI) - y\n"
   ]
  },
  {
   "cell_type": "markdown",
   "metadata": {},
   "source": [
    "Now we can set up some constants and run our simulations for the Second HIV model that includes the treatment mentioned in paper[2]: "
   ]
  },
  {
   "cell_type": "code",
   "execution_count": 59,
   "metadata": {},
   "outputs": [],
   "source": [
    "ALPHA = 1. / 3\n",
    "LAMBDA_L= 0.1\n",
    "D_T = 0.2\n",
    "BETA = 0.3\n",
    "P = 0.4\n",
    "C = 0.27\n",
    "EPS_RT = 0.1\n",
    "EPS_PI = 0.4\n",
    "\n",
    "# X[:, t] = [T_t, V_i_t]  \n",
    "x0 = np.array ([ALPHA, 10])"
   ]
  },
  {
   "cell_type": "markdown",
   "metadata": {},
   "source": [
    "Run both discrete and continous simulations and plot for the Second HIV model. Once we run them we can use the plotting functions to display the state variables over time."
   ]
  },
  {
   "cell_type": "code",
   "execution_count": 60,
   "metadata": {},
   "outputs": [
    {
     "data": {
      "image/png": "[encoded data removed]",
      "text/plain": [
       "<Figure size 864x432 with 2 Axes>"
      ]
     },
     "metadata": {
      "needs_background": "light"
     },
     "output_type": "display_data"
    }
   ],
   "source": [
    "#create discrete simulation data\n",
    "X = sim (F_hiv_2, T_MAX, x0, lambda_l=LAMBDA_L, d_t=D_T, beta=BETA, p=P, c=C, eps_RT = EPS_RT, eps_PI = EPS_PI )\n",
    "\n",
    "\n",
    "time = np.arange (T_MAX).astype (float)\n",
    "Y = np.zeros ((2, len (time)))  \n",
    "Y[:, 0] = x0[:2]            \n",
    "#create continous simulation data\n",
    "Y = odeint (F_hiv_2_ode,\n",
    "            Y[:, 0],\n",
    "            time,\n",
    "            args=(LAMBDA_L, D_T, BETA, P, C, EPS_RT, EPS_PI)).T\n",
    "\n",
    "\n",
    "T_ode = Y[0, :]\n",
    "V_i_ode = Y[1, :]\n",
    "I_ode = 1.0 - T_ode\n",
    "V_ni_ode = 1.0 - V_i_ode\n",
    "\n",
    "#plot both simulations \n",
    "plt.figure (figsize=(12, 6))\n",
    "plt.subplot (1, 2, 1)\n",
    "plot_sim_2(X)\n",
    "plt.subplot (1, 2, 2)\n",
    "plot_sim_2_ode(T_ode, V_i_ode, I_ode, time)\n"
   ]
  },
  {
   "cell_type": "markdown",
   "metadata": {},
   "source": [
    "Plot for discrete time model can be seen on the left hand-side and the continuous time model can be seen on right.  As we can observe, if we start from some viral load, the treatment will bring down the amount of virus down. "
   ]
  },
  {
   "cell_type": "markdown",
   "metadata": {},
   "source": [
    "According to [2], in real case scenarios we would observe a tapering off in the speed at which the virus is cleared out. The paper refers to this as phase 1 and phase 2. \n",
    "There are a few ways to model this but we will do it by introducing the latent cell M in the third HIV model below."
   ]
  },
  {
   "cell_type": "markdown",
   "metadata": {},
   "source": [
    "# Third HIV model -- Modeling treatment phases"
   ]
  },
  {
   "cell_type": "markdown",
   "metadata": {},
   "source": [
    "In paper[2], we can find a model with differential equations that lets us observe the effect of treatment on the viral load on a patient also during phase 2 of viral load. Third HIV Model introduces productively infected cells $I$ ,long-lived infected cells $M^*$ and latently infected cells $L$ which means that these cells don't produce virions until they get activated. To model this we will introduce new parameters, states and equations as follows:\n",
    "\n",
    "- $ M^* _t$ be the fraction of the cells that are long-lived infected cells $ M^*$ at $t$;\n",
    "- $L_t$ be the fraction of the cells that are latent cells  $t$; \n",
    "\n",
    "The model we present below holds these:\n",
    "\n",
    "- $V_{It} + V_{NIt}=1$ since infectious Virus $V_{It}$ and non-infectious Virus $V_{NIt}$ are complementary we always only need to compute one in order to compute the other. \n",
    "- Also $ M^* _t + I_t +L_t =1 $ Here, we will also implicitly assume that the number of individuals is large enough that we can treat these fractions as being continuous.\n",
    "\n",
    "Introduction of new parameters:\n",
    "\n",
    "- $\\tau_{RT}$ and $\\tau_{PI}$ represents the pharmacological delay which takes into account that antiretroviral drugs are not instantly active and the delay values may be different for reverse transcriptase inhibitors and protease inhibitors\n",
    "- T (non-infected susceptible cells) and M (long-lived cells) cells remain constant during the observation\n",
    "- $f_k$ is the parameter for the rate that L cells are produced\n",
    "- $\\delta_l$ is the constant rate that L cells die \n",
    "- k is the constant rate that I cells are generated\n",
    "- $k_m$ is the constant rate that $M^*$ cells are generated\n",
    "- $N \\delta$ is the average rate per cell that I cells produce virus\n",
    "- $p_{m}$ is the average rate per cell that $M^*$ cells produce virus\n",
    "- $\\delta$ is the constant rate that I cells are lost \n",
    "- $\\mu$ is the constant rate that $M^*$ cells are lost \n",
    "- a is the constant rate that L cells are activated into productively infected cells\n",
    "- c is the constant rate that both the infectious and non-infectious virions are cleared\n",
    "\n",
    " \n",
    "Then, a corresponding discrete-time dynamical system is:\n",
    "\n",
    "$$\n",
    "\\begin{eqnarray}\n",
    "  I_{t+1} & \\equiv & I_t + (1-\\epsilon_{RT}h(t- \\tau_{RT})) \\beta T  V_{It} + a L_t - \\delta I_t \\\\\n",
    "  M^*_{t+1} & \\equiv & M^*_t + (1-\\epsilon_{RT}h(t- \\tau_{RT})) k_M M V_{It} - \\mu M^*_t \\\\\n",
    "  L_{t+1} & \\equiv & L_t + (1-\\epsilon_{RT}h(t- \\tau_{RT})) f_k T V_{It} -a L_t - \\delta_L L_t \\\\ \n",
    "  V_{It+1} & \\equiv &  V_{It} + (1-\\epsilon_{PI}h(t- \\tau_{PI})) N \\delta I_t + (1-\\epsilon_{PI}h(t- \\tau_{PI})) p_M M^*_t -c V_{It}\\\\\n",
    "  V_{NIt+1} & \\equiv & V_{NIt} + \\epsilon_{PI}h(t- \\tau_{RT}) N \\delta I_t +  \\epsilon_{PI}h(t- \\tau_{PI}) p_M M^*_t -cV_{NIt}\\\\\n",
    "\\end{eqnarray}\n",
    "$$\n",
    "\n",
    "where h(t- $\\tau$) is a Heavyside function that takes 0 value for t< $\\tau$ and 1 value for $t \\geq \\tau$.\n",
    "\n"
   ]
  },
  {
   "cell_type": "code",
   "execution_count": 61,
   "metadata": {},
   "outputs": [],
   "source": [
    "def h(t,tau):  \n",
    "    \"\"\"\n",
    "    Description: Heavyside function used in the Third HIV model.\n",
    "    Input: Integer variable t as time and integer constant tau. \n",
    "    Output: 0 if t is less than tau and 1 if otherwise.\n",
    "    \"\"\"\n",
    "    if(t<tau):\n",
    "        a=0\n",
    "    else:\n",
    "        a=1\n",
    "    return a"
   ]
  },
  {
   "cell_type": "code",
   "execution_count": 62,
   "metadata": {},
   "outputs": [],
   "source": [
    "def F_hiv_3 (x, t, d_t, beta, c, eps_RT, eps_PI, a, beta_M, mu, N, p_M, tau_RT, tau_PI, T, M, f_k,delta, delta_L):\n",
    "    \"\"\"\n",
    "    Description: Third HIV model in discrete time.\n",
    "    Input: x as 1D numpy array that will contain\n",
    "              in x[0] Infected cells   I   \n",
    "              in x[1] Viral load       V_i     \n",
    "              in x[2] Long lived cells M*  \n",
    "              in x[3] Latent cells     L   \n",
    "    Output: 1D numpy array x_next that returns state variables I, M_star, V_i and L values at time t+1\n",
    "    \"\"\"\n",
    "    \n",
    "    # x = (I, V_i, M_star, L)     \n",
    "    x_next = x.copy ()\n",
    "\n",
    "    I, V_i, M_star, L = 0, 1, 2, 3\n",
    "    x_next[I]      = max(0, x[I] + (1-eps_RT*h(t,tau_RT))*beta*T*x[V_i]+ a*x[L]- delta*x[I] )\n",
    "    x_next[M_star] = max(0, x[M_star] + (1-eps_RT*h(t,tau_RT))*beta_M* M*x[V_i]-mu*x[M_star])\n",
    "    x_next[V_i]    = max(0, x[V_i] +(1-eps_PI*h(t,tau_PI))*N*delta*x[I] + (1-eps_PI*h(t,tau_PI))*p_M* x[M_star] - c*x[V_i])\n",
    "    x_next[L]      = max(0, x[L] + (1-eps_RT*h(t,tau_RT))*f_k*T*x[V_i]-a*L-delta_L*x[L])\n",
    "    return x_next"
   ]
  },
  {
   "cell_type": "markdown",
   "metadata": {},
   "source": [
    "## Implementation for continuous time\n",
    "\n",
    "Next, suppose we wish to treat time as a continuous, rather than discrete, variable. Doing so gives rise to a system of ordinary differential equations (ODEs):\n",
    "\n",
    "$$\n",
    "\\begin{eqnarray}\n",
    "  \\dfrac{d\\vec{y}}{dt}\n",
    "  = \\dfrac{d}{dt}\\left(\\begin{matrix}\n",
    "      I(t) \\\\\n",
    "      M^*(t) \\\\\n",
    "      L(t) \\\\\n",
    "      V_I(t) \\\\\n",
    "      V_{NI}(t)\n",
    "    \\end{matrix}\\right)\n",
    "  & = & \\left(\\begin{matrix}\n",
    "      (1-\\epsilon_{RT}h(t- \\tau_{RT})) \\beta T  V_{I}(t) + a L(t) - \\delta I(t) \\\\\n",
    "      (1-\\epsilon_{RT}h(t- \\tau_{RT})) k_M M V_I(t) - \\mu M^*(t) \\\\\n",
    "      (1-\\epsilon_{RT}h(t- \\tau_{RT})) f_k T V_{I}(t) -a L(t) - \\delta_L L(t) \\\\\n",
    "      (1-\\epsilon_{PI}h(t- \\tau_{PI})) N \\delta I(t) + (1-\\epsilon_{PI}h(t- \\tau_{PI})) p_M M^*(t) -c V_{I}(t) \\\\\n",
    "      \\epsilon_{PI}h(t- \\tau_{RT}) N \\delta I(t) +  \\epsilon_{PI}h(t- \\tau_{PI}) p_M M^*(t) -cV_{NI}(t)\n",
    "    \\end{matrix}\\right)\n",
    "  \\equiv \\vec{F}(\\vec{y}),\n",
    "\\end{eqnarray}\n",
    "$$\n",
    "\n",
    "where $\\vec{y}(t)$ is the state vector."
   ]
  },
  {
   "cell_type": "markdown",
   "metadata": {},
   "source": [
    "- Use the initial population parameters $I(0) = 1-\\alpha$, $V_i(0) = 10 $, $M_{star}(0) =\\alpha$,  and $L(0) = 0.1$. \n",
    "- $\\alpha$ is the proportion of target cells that are alive.\n",
    "- Store the results for $I_{ode}(t)$, $Vi_{ode}(t)$, $Mstar_{ode}(t)$ and $L_{ode}$ for time points (i.e., including $t=0$) in four NumPy arrays named `I_ode[:T_MAX]`, `V_i_ode[:T_MAX]`,`M_star_ode[:T_MAX] and L_ode[:T_MAX]`, respectively. The plotting code below assume these names."
   ]
  },
  {
   "cell_type": "code",
   "execution_count": 63,
   "metadata": {},
   "outputs": [],
   "source": [
    "def plot_sim_3 (X):\n",
    "    \n",
    "    \"\"\"\n",
    "    Description: Plotting the discrete model state variables. \n",
    "    Input: X as 2D numpy array that will contain\n",
    "              in X[0, :] Infected cells   I   \n",
    "              in X[1, :] Viral load       V_i     \n",
    "              in X[2, :] Long lived cells M*  \n",
    "              in X[3, :] Latent cells     L   \n",
    "    Output: none\n",
    "    \"\"\"\n",
    "    \n",
    "    t_max = X.shape[1] - 1\n",
    "    \n",
    "    T = np.arange (t_max+1)\n",
    "    use_points = len (T) <= 30\n",
    "    plt.plot (T, X[0, :], 'ys--' if use_points else 'y-')\n",
    "    plt.plot (T, X[1, :], 'r*--' if use_points else 'r--')\n",
    "    plt.plot (T, X[2, :], 'bo--' if use_points else 'b--')\n",
    "    plt.plot (T, X[3, :], 'go--' if use_points else 'g--')\n",
    "    plt.legend (['I', 'V_i', 'M*','L'])\n",
    "    plt.xlabel('Time')\n",
    "    plt.ylabel('Virus and Cell Loads')\n",
    "    #X[:, t] = [I_t, V_i_t, M_t, L_t] "
   ]
  },
  {
   "cell_type": "markdown",
   "metadata": {},
   "source": [
    "Prepare ODE for continous simulation of Third HIV Model:"
   ]
  },
  {
   "cell_type": "code",
   "execution_count": 64,
   "metadata": {},
   "outputs": [],
   "source": [
    "#F_phase_2 (x, t, d_t, beta, c, eps_RT, eps_PI, a, beta_M, mu, N, p_M, tau_RT, tau_PI)\n",
    "\n",
    "#Initial populations, i.e., [I(0), V_i(0), M_star(0), L(0)] \n",
    "y0 = np.array ([1.0 - ALPHA, 10 , ALPHA, .1 ])               \n",
    "\n",
    "# Time points at which to compute the solutions:\n",
    "time = np.arange (100).astype (float)\n",
    "\n",
    "### BEGIN SOLUTION\n",
    "from scipy.integrate import odeint\n",
    "\n",
    "def F_phase_2_ode (y, t, d_t, beta, c, eps_RT, eps_PI, a, beta_M, mu, N, p_M, tau_RT, tau_PI, T, M, f_k, delta,delta_L): #bu t burdaydi\n",
    "    return F_hiv_3  (y, t, d_t, beta, c, eps_RT, eps_PI, a, beta_M, mu, N, p_M, tau_RT, tau_PI, T, M, f_k,delta, delta_L) - y\n"
   ]
  },
  {
   "cell_type": "markdown",
   "metadata": {},
   "source": [
    "Setup plotting for continous case:"
   ]
  },
  {
   "cell_type": "code",
   "execution_count": 65,
   "metadata": {},
   "outputs": [],
   "source": [
    "def plot_sim_ode (I, V_i, M_star, L, time):\n",
    "    \n",
    "    \"\"\"\n",
    "    Description:Plotting the continous model state variables. \n",
    "    Input: I -> Numpy 1d array containing infected cell simulation values\n",
    "         V_i -> Numpy 1d array containing viral load simulation values\n",
    "      M_star -> Numpy 1d array containing long lived infected cells. \n",
    "           L -> Numpy 1d array containing latent cell simulation values\n",
    "        time -> Numpy 1d array containing time steps that need to be plotted\n",
    "    Output: none\n",
    "    \"\"\"\n",
    "        \n",
    "    t_max = time[-1]\n",
    "    use_points = len (time) <= 35\n",
    "    plt.plot (time, I, 'ys--' if use_points else 'y-')\n",
    "    plt.plot (time, V_i, 'r*--' if use_points else 'r--')         \n",
    "    plt.plot (time, M_star, 'bo--' if use_points else 'b--')\n",
    "    plt.plot (time, L, 'go--' if use_points else 'g--')\n",
    "    plt.legend (['I', 'V_i', 'M*', 'L'])\n",
    "    plt.xlabel('Time')\n",
    "    plt.ylabel('Virus and Cell Loads')\n",
    "    #plt.axis ([0, t_max+1, 0, 1])"
   ]
  },
  {
   "cell_type": "markdown",
   "metadata": {},
   "source": [
    "Now we can set up some simulation parameters such as running time and also we need to set the various model parameters. At the very bottom, we also intialize our state variables. "
   ]
  },
  {
   "cell_type": "code",
   "execution_count": 66,
   "metadata": {},
   "outputs": [],
   "source": [
    "T_MAX = 100\n",
    "\n",
    "ALPHA     = 1. / 3\n",
    "LAMBDA_L  = 0.1\n",
    "D_T       = 0.2\n",
    "BETA      = 0.3\n",
    "P         = 0.4\n",
    "C         = 0.27\n",
    "EPS_RT  = EPS_PI = 0.8\n",
    "A       = 0.5\n",
    "BETA_M  = 0.3\n",
    "MU      = 0.4\n",
    "N_C     = 0.5\n",
    "P_M     = 0.2\n",
    "TAU_RT  = TAU_PI = 60\n",
    "T_C     = 1\n",
    "M_C     = 1\n",
    "F_K     = 0.3\n",
    "DELTA   = 0.1\n",
    "DELTA_L = 0.4\n",
    "\n",
    "T       = 1\n",
    "M       = 1\n",
    "f_k     = 0.3\n",
    "delta   = 0.1\n",
    "delta_L = 0.4\n",
    "\n",
    "#X[:, t] = [I_t, V_i_t, M_t, L_t]\n",
    "x0 = np.array ([1.0 - ALPHA, 10, ALPHA, 0.1])"
   ]
  },
  {
   "cell_type": "markdown",
   "metadata": {},
   "source": [
    "Now we are ready to run both discrete and continous simulations. Once we run them we can use the plotting functions to display the state variables over time."
   ]
  },
  {
   "cell_type": "code",
   "execution_count": 67,
   "metadata": {},
   "outputs": [
    {
     "data": {
      "image/png": "[encoded data removed]",
      "text/plain": [
       "<Figure size 864x432 with 2 Axes>"
      ]
     },
     "metadata": {
      "needs_background": "light"
     },
     "output_type": "display_data"
    }
   ],
   "source": [
    "#create discrete simulation data\n",
    "X = sim (F_hiv_3, T_MAX, x0, d_t=D_T, beta=BETA, c=C, eps_RT = EPS_RT, eps_PI = EPS_PI,\n",
    "                               a=A, beta_M=BETA_M, mu=MU, N=N_C, p_M=P_M, tau_RT=TAU_RT,\n",
    "                              tau_PI=TAU_PI, T=T_C, M=M_C, f_k=F_K,delta=DELTA, delta_L=DELTA_L)\n",
    "\n",
    "Y = np.zeros ((4, len (time)))  \n",
    "Y[:, 0] = x0[:4]            \n",
    "#create continous simulation data\n",
    "Y = odeint (F_phase_2_ode,\n",
    "            Y[:, 0],\n",
    "            time,\n",
    "            args=(D_T, BETA, C, EPS_RT, EPS_PI, A, BETA_M, MU, N_C, P_M, TAU_RT,\n",
    "                              TAU_PI, T_C, M_C, F_K, DELTA, DELTA_L)).T \n",
    "\n",
    "\n",
    "I_ode = Y[0, :]\n",
    "V_i_ode = Y[1, :]\n",
    "M_star_ode = Y[2, :] \n",
    "L_ode = Y[3, :] \n",
    "\n",
    "#plot both simulations \n",
    "plt.figure (figsize=(12, 6))\n",
    "plt.subplot (1, 2, 1)\n",
    "plot_sim_3(X)\n",
    "plt.subplot (1, 2, 2)\n",
    "plot_sim_ode(I_ode, V_i_ode, M_star_ode, L_ode, time)"
   ]
  },
  {
   "cell_type": "markdown",
   "metadata": {},
   "source": [
    "Plot for discrete time model can be seen on the left hand-side and the continuous time model can be seen on right. As can be observed from the plots once the drug therapy kicks in the level of plasma virus is predicted to decay. After the treatment productively infected cells $I$ decay faster compared to the long lived infected cells $M^*$. Both from the plot and the paper [2] if these two populations of cells are assumed to be the only sources of virus, the second phase of decay extrapolates to zero residual infected cells in 2–3 years of completely suppressive antiretroviral therapy.\n"
   ]
  }
 ],
 "metadata": {
  "celltoolbar": "Create Assignment",
  "kernelspec": {
   "display_name": "Python 3",
   "language": "python",
   "name": "python3"
  },
  "language_info": {
   "codemirror_mode": {
    "name": "ipython",
    "version": 3
   },
   "file_extension": ".py",
   "mimetype": "text/x-python",
   "name": "python",
   "nbconvert_exporter": "python",
   "pygments_lexer": "ipython3",
   "version": "3.7.1"
  }
 },
 "nbformat": 4,
 "nbformat_minor": 2
}
